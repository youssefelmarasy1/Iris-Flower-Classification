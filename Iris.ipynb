{
 "cells": [
  {
   "cell_type": "code",
   "execution_count": 27,
   "metadata": {},
   "outputs": [],
   "source": [
    "# Import necessary libraries\n",
    "import numpy as np\n",
    "import pandas as pd\n",
    "import matplotlib.pyplot as plt\n",
    "from sklearn.model_selection import train_test_split\n",
    "from sklearn.preprocessing import StandardScaler\n",
    "from sklearn.metrics import classification_report\n",
    "import tensorflow as tf\n",
    "from tensorflow.keras.models import Sequential\n",
    "from tensorflow.keras.layers import Dense\n",
    "from sklearn.model_selection import GridSearchCV\n",
    "from tensorflow.keras.regularizers import l2\n",
    "\n"
   ]
  },
  {
   "cell_type": "code",
   "execution_count": 4,
   "metadata": {},
   "outputs": [],
   "source": [
    "# Load the Iris dataset\n",
    "from sklearn.datasets import load_iris\n",
    "iris = load_iris()\n",
    "X = iris.data\n",
    "y = iris.target"
   ]
  },
  {
   "cell_type": "code",
   "execution_count": 5,
   "metadata": {},
   "outputs": [],
   "source": [
    "# Convert target to one-hot encoded vectors\n",
    "y_one_hot = tf.keras.utils.to_categorical(y, num_classes=3)"
   ]
  },
  {
   "cell_type": "code",
   "execution_count": 6,
   "metadata": {},
   "outputs": [],
   "source": [
    "# Split the dataset into training and testing sets\n",
    "X_train, X_test, y_train, y_test = train_test_split(X, y_one_hot, test_size=0.2, random_state=42)\n"
   ]
  },
  {
   "cell_type": "code",
   "execution_count": 7,
   "metadata": {},
   "outputs": [],
   "source": [
    "# Feature scaling\n",
    "scaler = StandardScaler()\n",
    "X_train_scaled = scaler.fit_transform(X_train)\n",
    "X_test_scaled = scaler.transform(X_test)"
   ]
  },
  {
   "cell_type": "code",
   "execution_count": 8,
   "metadata": {},
   "outputs": [],
   "source": [
    "# Build a simple Sequential neural network model\n",
    "model = Sequential([\n",
    "    Dense(8, activation='relu', input_shape=(4,)),\n",
    "    Dense(3, activation='softmax')\n",
    "])"
   ]
  },
  {
   "cell_type": "code",
   "execution_count": 9,
   "metadata": {},
   "outputs": [],
   "source": [
    "# Compile the model\n",
    "model.compile(optimizer='adam', loss='categorical_crossentropy', metrics=['accuracy'])\n"
   ]
  },
  {
   "cell_type": "code",
   "execution_count": 10,
   "metadata": {},
   "outputs": [
    {
     "name": "stdout",
     "output_type": "stream",
     "text": [
      "Epoch 1/50\n",
      "4/4 [==============================] - 1s 103ms/step - loss: 1.2302 - accuracy: 0.3519 - val_loss: 1.2400 - val_accuracy: 0.2500\n",
      "Epoch 2/50\n",
      "4/4 [==============================] - 0s 21ms/step - loss: 1.2094 - accuracy: 0.4630 - val_loss: 1.2240 - val_accuracy: 0.2500\n",
      "Epoch 3/50\n",
      "4/4 [==============================] - 0s 22ms/step - loss: 1.1885 - accuracy: 0.5093 - val_loss: 1.2086 - val_accuracy: 0.2500\n",
      "Epoch 4/50\n",
      "4/4 [==============================] - 0s 24ms/step - loss: 1.1697 - accuracy: 0.5093 - val_loss: 1.1936 - val_accuracy: 0.2500\n",
      "Epoch 5/50\n",
      "4/4 [==============================] - 0s 20ms/step - loss: 1.1486 - accuracy: 0.5185 - val_loss: 1.1791 - val_accuracy: 0.2500\n",
      "Epoch 6/50\n",
      "4/4 [==============================] - 0s 18ms/step - loss: 1.1313 - accuracy: 0.5185 - val_loss: 1.1647 - val_accuracy: 0.2500\n",
      "Epoch 7/50\n",
      "4/4 [==============================] - 0s 17ms/step - loss: 1.1135 - accuracy: 0.5370 - val_loss: 1.1506 - val_accuracy: 0.2500\n",
      "Epoch 8/50\n",
      "4/4 [==============================] - 0s 22ms/step - loss: 1.0956 - accuracy: 0.5370 - val_loss: 1.1367 - val_accuracy: 0.2500\n",
      "Epoch 9/50\n",
      "4/4 [==============================] - 0s 23ms/step - loss: 1.0779 - accuracy: 0.5370 - val_loss: 1.1233 - val_accuracy: 0.2500\n",
      "Epoch 10/50\n",
      "4/4 [==============================] - 0s 22ms/step - loss: 1.0602 - accuracy: 0.5370 - val_loss: 1.1100 - val_accuracy: 0.2500\n",
      "Epoch 11/50\n",
      "4/4 [==============================] - 0s 18ms/step - loss: 1.0446 - accuracy: 0.5463 - val_loss: 1.0968 - val_accuracy: 0.2500\n",
      "Epoch 12/50\n",
      "4/4 [==============================] - 0s 14ms/step - loss: 1.0282 - accuracy: 0.5648 - val_loss: 1.0838 - val_accuracy: 0.2500\n",
      "Epoch 13/50\n",
      "4/4 [==============================] - 0s 15ms/step - loss: 1.0106 - accuracy: 0.5648 - val_loss: 1.0713 - val_accuracy: 0.2500\n",
      "Epoch 14/50\n",
      "4/4 [==============================] - 0s 21ms/step - loss: 0.9953 - accuracy: 0.5648 - val_loss: 1.0588 - val_accuracy: 0.2500\n",
      "Epoch 15/50\n",
      "4/4 [==============================] - 0s 23ms/step - loss: 0.9793 - accuracy: 0.5556 - val_loss: 1.0469 - val_accuracy: 0.2500\n",
      "Epoch 16/50\n",
      "4/4 [==============================] - 0s 26ms/step - loss: 0.9648 - accuracy: 0.5648 - val_loss: 1.0348 - val_accuracy: 0.2500\n",
      "Epoch 17/50\n",
      "4/4 [==============================] - 0s 13ms/step - loss: 0.9496 - accuracy: 0.5648 - val_loss: 1.0227 - val_accuracy: 0.2500\n",
      "Epoch 18/50\n",
      "4/4 [==============================] - 0s 21ms/step - loss: 0.9348 - accuracy: 0.5741 - val_loss: 1.0110 - val_accuracy: 0.2500\n",
      "Epoch 19/50\n",
      "4/4 [==============================] - 0s 24ms/step - loss: 0.9209 - accuracy: 0.5648 - val_loss: 0.9993 - val_accuracy: 0.3333\n",
      "Epoch 20/50\n",
      "4/4 [==============================] - 0s 14ms/step - loss: 0.9075 - accuracy: 0.5648 - val_loss: 0.9878 - val_accuracy: 0.4167\n",
      "Epoch 21/50\n",
      "4/4 [==============================] - 0s 19ms/step - loss: 0.8931 - accuracy: 0.5741 - val_loss: 0.9766 - val_accuracy: 0.5000\n",
      "Epoch 22/50\n",
      "4/4 [==============================] - 0s 16ms/step - loss: 0.8792 - accuracy: 0.5741 - val_loss: 0.9658 - val_accuracy: 0.5000\n",
      "Epoch 23/50\n",
      "4/4 [==============================] - 0s 17ms/step - loss: 0.8663 - accuracy: 0.5833 - val_loss: 0.9551 - val_accuracy: 0.5000\n",
      "Epoch 24/50\n",
      "4/4 [==============================] - 0s 17ms/step - loss: 0.8547 - accuracy: 0.5833 - val_loss: 0.9448 - val_accuracy: 0.5000\n",
      "Epoch 25/50\n",
      "4/4 [==============================] - 0s 19ms/step - loss: 0.8418 - accuracy: 0.6019 - val_loss: 0.9349 - val_accuracy: 0.5833\n",
      "Epoch 26/50\n",
      "4/4 [==============================] - 0s 18ms/step - loss: 0.8299 - accuracy: 0.6019 - val_loss: 0.9254 - val_accuracy: 0.5833\n",
      "Epoch 27/50\n",
      "4/4 [==============================] - 0s 18ms/step - loss: 0.8191 - accuracy: 0.6111 - val_loss: 0.9159 - val_accuracy: 0.5833\n",
      "Epoch 28/50\n",
      "4/4 [==============================] - 0s 16ms/step - loss: 0.8080 - accuracy: 0.6204 - val_loss: 0.9069 - val_accuracy: 0.5833\n",
      "Epoch 29/50\n",
      "4/4 [==============================] - 0s 16ms/step - loss: 0.7968 - accuracy: 0.6204 - val_loss: 0.8982 - val_accuracy: 0.5833\n",
      "Epoch 30/50\n",
      "4/4 [==============================] - 0s 18ms/step - loss: 0.7868 - accuracy: 0.6204 - val_loss: 0.8893 - val_accuracy: 0.5833\n",
      "Epoch 31/50\n",
      "4/4 [==============================] - 0s 16ms/step - loss: 0.7761 - accuracy: 0.6204 - val_loss: 0.8811 - val_accuracy: 0.5833\n",
      "Epoch 32/50\n",
      "4/4 [==============================] - 0s 17ms/step - loss: 0.7658 - accuracy: 0.6296 - val_loss: 0.8727 - val_accuracy: 0.5833\n",
      "Epoch 33/50\n",
      "4/4 [==============================] - 0s 14ms/step - loss: 0.7560 - accuracy: 0.6389 - val_loss: 0.8642 - val_accuracy: 0.5833\n",
      "Epoch 34/50\n",
      "4/4 [==============================] - 0s 14ms/step - loss: 0.7460 - accuracy: 0.6389 - val_loss: 0.8559 - val_accuracy: 0.5833\n",
      "Epoch 35/50\n",
      "4/4 [==============================] - 0s 12ms/step - loss: 0.7371 - accuracy: 0.6389 - val_loss: 0.8478 - val_accuracy: 0.5833\n",
      "Epoch 36/50\n",
      "4/4 [==============================] - 0s 14ms/step - loss: 0.7274 - accuracy: 0.6481 - val_loss: 0.8401 - val_accuracy: 0.5833\n",
      "Epoch 37/50\n",
      "4/4 [==============================] - 0s 19ms/step - loss: 0.7185 - accuracy: 0.6481 - val_loss: 0.8327 - val_accuracy: 0.5833\n",
      "Epoch 38/50\n",
      "4/4 [==============================] - 0s 20ms/step - loss: 0.7100 - accuracy: 0.6389 - val_loss: 0.8253 - val_accuracy: 0.5833\n",
      "Epoch 39/50\n",
      "4/4 [==============================] - 0s 26ms/step - loss: 0.7015 - accuracy: 0.6667 - val_loss: 0.8182 - val_accuracy: 0.5833\n",
      "Epoch 40/50\n",
      "4/4 [==============================] - 0s 18ms/step - loss: 0.6934 - accuracy: 0.6667 - val_loss: 0.8113 - val_accuracy: 0.5833\n",
      "Epoch 41/50\n",
      "4/4 [==============================] - 0s 21ms/step - loss: 0.6853 - accuracy: 0.6944 - val_loss: 0.8045 - val_accuracy: 0.5833\n",
      "Epoch 42/50\n",
      "4/4 [==============================] - 0s 22ms/step - loss: 0.6778 - accuracy: 0.6944 - val_loss: 0.7980 - val_accuracy: 0.5833\n",
      "Epoch 43/50\n",
      "4/4 [==============================] - 0s 24ms/step - loss: 0.6699 - accuracy: 0.7037 - val_loss: 0.7919 - val_accuracy: 0.5833\n",
      "Epoch 44/50\n",
      "4/4 [==============================] - 0s 23ms/step - loss: 0.6626 - accuracy: 0.7222 - val_loss: 0.7858 - val_accuracy: 0.5833\n",
      "Epoch 45/50\n",
      "4/4 [==============================] - 0s 22ms/step - loss: 0.6553 - accuracy: 0.7315 - val_loss: 0.7797 - val_accuracy: 0.5833\n",
      "Epoch 46/50\n",
      "4/4 [==============================] - 0s 16ms/step - loss: 0.6482 - accuracy: 0.7315 - val_loss: 0.7736 - val_accuracy: 0.5833\n",
      "Epoch 47/50\n",
      "4/4 [==============================] - 0s 22ms/step - loss: 0.6412 - accuracy: 0.7407 - val_loss: 0.7675 - val_accuracy: 0.5833\n",
      "Epoch 48/50\n",
      "4/4 [==============================] - 0s 24ms/step - loss: 0.6342 - accuracy: 0.7407 - val_loss: 0.7616 - val_accuracy: 0.5833\n",
      "Epoch 49/50\n",
      "4/4 [==============================] - 0s 21ms/step - loss: 0.6277 - accuracy: 0.7407 - val_loss: 0.7558 - val_accuracy: 0.5833\n",
      "Epoch 50/50\n",
      "4/4 [==============================] - 0s 18ms/step - loss: 0.6209 - accuracy: 0.7407 - val_loss: 0.7501 - val_accuracy: 0.5833\n"
     ]
    }
   ],
   "source": [
    "# Train the model\n",
    "history = model.fit(X_train_scaled, y_train, validation_split=0.1, epochs=50, verbose=1)"
   ]
  },
  {
   "cell_type": "code",
   "execution_count": 11,
   "metadata": {},
   "outputs": [
    {
     "name": "stdout",
     "output_type": "stream",
     "text": [
      "Test Loss: 0.6003, Test Accuracy: 0.7667\n"
     ]
    }
   ],
   "source": [
    "# Evaluate the model on the test set\n",
    "loss, accuracy = model.evaluate(X_test_scaled, y_test, verbose=0)\n",
    "print(f\"Test Loss: {loss:.4f}, Test Accuracy: {accuracy:.4f}\")"
   ]
  },
  {
   "cell_type": "code",
   "execution_count": 12,
   "metadata": {},
   "outputs": [
    {
     "name": "stdout",
     "output_type": "stream",
     "text": [
      "1/1 [==============================] - 0s 128ms/step\n"
     ]
    }
   ],
   "source": [
    "# Generate predictions\n",
    "y_pred = model.predict(X_test_scaled)\n",
    "y_pred_classes = np.argmax(y_pred, axis=1)\n",
    "y_true = np.argmax(y_test, axis=1)"
   ]
  },
  {
   "cell_type": "code",
   "execution_count": 13,
   "metadata": {},
   "outputs": [
    {
     "name": "stdout",
     "output_type": "stream",
     "text": [
      "              precision    recall  f1-score   support\n",
      "\n",
      "      setosa       1.00      1.00      1.00        10\n",
      "  versicolor       1.00      0.22      0.36         9\n",
      "   virginica       0.61      1.00      0.76        11\n",
      "\n",
      "    accuracy                           0.77        30\n",
      "   macro avg       0.87      0.74      0.71        30\n",
      "weighted avg       0.86      0.77      0.72        30\n",
      "\n"
     ]
    }
   ],
   "source": [
    "# Print classification report\n",
    "print(classification_report(y_true, y_pred_classes, target_names=iris.target_names))\n"
   ]
  },
  {
   "cell_type": "code",
   "execution_count": 14,
   "metadata": {},
   "outputs": [
    {
     "data": {
      "image/png": "[encoded data removed]",
      "text/plain": [
       "<Figure size 1000x400 with 2 Axes>"
      ]
     },
     "metadata": {},
     "output_type": "display_data"
    }
   ],
   "source": [
    "# Plot training history\n",
    "plt.figure(figsize=(10, 4))\n",
    "plt.subplot(1, 2, 1)\n",
    "plt.plot(history.history['loss'], label='Training Loss')\n",
    "plt.plot(history.history['val_loss'], label='Validation Loss')\n",
    "plt.xlabel('Epochs')\n",
    "plt.ylabel('Loss')\n",
    "plt.legend()\n",
    "plt.subplot(1, 2, 2)\n",
    "plt.plot(history.history['accuracy'], label='Training Accuracy')\n",
    "plt.plot(history.history['val_accuracy'], label='Validation Accuracy')\n",
    "plt.xlabel('Epochs')\n",
    "plt.ylabel('Accuracy')\n",
    "plt.legend()\n",
    "plt.tight_layout()\n",
    "plt.show()"
   ]
  },
  {
   "cell_type": "markdown",
   "metadata": {},
   "source": [
    "**1. Different Architectures:**\n",
    "    Let's modify the architecture of the neural network by adding more hidden layers and using different activation functions."
   ]
  },
  {
   "cell_type": "code",
   "execution_count": 16,
   "metadata": {},
   "outputs": [],
   "source": [
    "# Build a more complex neural network model\n",
    "model_complex = Sequential([\n",
    "    Dense(16, activation='relu', input_shape=(4,)),\n",
    "    Dense(32, activation='relu'),\n",
    "    Dense(16, activation='relu'),\n",
    "    Dense(3, activation='softmax')\n",
    "])"
   ]
  },
  {
   "cell_type": "code",
   "execution_count": 17,
   "metadata": {},
   "outputs": [
    {
     "name": "stdout",
     "output_type": "stream",
     "text": [
      "Epoch 1/50\n",
      "4/4 [==============================] - 1s 49ms/step - loss: 1.0682 - accuracy: 0.3241 - val_loss: 1.0859 - val_accuracy: 0.1667\n",
      "Epoch 2/50\n",
      "4/4 [==============================] - 0s 10ms/step - loss: 1.0320 - accuracy: 0.4444 - val_loss: 1.0633 - val_accuracy: 0.5000\n",
      "Epoch 3/50\n",
      "4/4 [==============================] - 0s 11ms/step - loss: 0.9995 - accuracy: 0.5463 - val_loss: 1.0422 - val_accuracy: 0.5833\n",
      "Epoch 4/50\n",
      "4/4 [==============================] - 0s 13ms/step - loss: 0.9693 - accuracy: 0.6204 - val_loss: 1.0222 - val_accuracy: 0.5833\n",
      "Epoch 5/50\n",
      "4/4 [==============================] - 0s 10ms/step - loss: 0.9414 - accuracy: 0.6574 - val_loss: 1.0015 - val_accuracy: 0.5833\n",
      "Epoch 6/50\n",
      "4/4 [==============================] - 0s 17ms/step - loss: 0.9135 - accuracy: 0.6667 - val_loss: 0.9811 - val_accuracy: 0.5833\n",
      "Epoch 7/50\n",
      "4/4 [==============================] - 0s 10ms/step - loss: 0.8867 - accuracy: 0.6759 - val_loss: 0.9610 - val_accuracy: 0.5833\n",
      "Epoch 8/50\n",
      "4/4 [==============================] - 0s 11ms/step - loss: 0.8575 - accuracy: 0.6759 - val_loss: 0.9412 - val_accuracy: 0.5833\n",
      "Epoch 9/50\n",
      "4/4 [==============================] - 0s 10ms/step - loss: 0.8293 - accuracy: 0.6759 - val_loss: 0.9209 - val_accuracy: 0.5833\n",
      "Epoch 10/50\n",
      "4/4 [==============================] - 0s 11ms/step - loss: 0.8008 - accuracy: 0.6759 - val_loss: 0.9009 - val_accuracy: 0.5833\n",
      "Epoch 11/50\n",
      "4/4 [==============================] - 0s 11ms/step - loss: 0.7714 - accuracy: 0.7037 - val_loss: 0.8806 - val_accuracy: 0.5833\n",
      "Epoch 12/50\n",
      "4/4 [==============================] - 0s 12ms/step - loss: 0.7422 - accuracy: 0.7222 - val_loss: 0.8607 - val_accuracy: 0.6667\n",
      "Epoch 13/50\n",
      "4/4 [==============================] - 0s 12ms/step - loss: 0.7142 - accuracy: 0.7222 - val_loss: 0.8407 - val_accuracy: 0.6667\n",
      "Epoch 14/50\n",
      "4/4 [==============================] - 0s 11ms/step - loss: 0.6859 - accuracy: 0.7407 - val_loss: 0.8200 - val_accuracy: 0.6667\n",
      "Epoch 15/50\n",
      "4/4 [==============================] - 0s 11ms/step - loss: 0.6592 - accuracy: 0.7500 - val_loss: 0.7989 - val_accuracy: 0.6667\n",
      "Epoch 16/50\n",
      "4/4 [==============================] - 0s 12ms/step - loss: 0.6335 - accuracy: 0.7778 - val_loss: 0.7779 - val_accuracy: 0.6667\n",
      "Epoch 17/50\n",
      "4/4 [==============================] - 0s 11ms/step - loss: 0.6091 - accuracy: 0.7778 - val_loss: 0.7565 - val_accuracy: 0.6667\n",
      "Epoch 18/50\n",
      "4/4 [==============================] - 0s 10ms/step - loss: 0.5847 - accuracy: 0.8056 - val_loss: 0.7357 - val_accuracy: 0.6667\n",
      "Epoch 19/50\n",
      "4/4 [==============================] - 0s 10ms/step - loss: 0.5627 - accuracy: 0.8241 - val_loss: 0.7154 - val_accuracy: 0.6667\n",
      "Epoch 20/50\n",
      "4/4 [==============================] - 0s 10ms/step - loss: 0.5418 - accuracy: 0.8426 - val_loss: 0.6965 - val_accuracy: 0.6667\n",
      "Epoch 21/50\n",
      "4/4 [==============================] - 0s 10ms/step - loss: 0.5213 - accuracy: 0.8704 - val_loss: 0.6782 - val_accuracy: 0.7500\n",
      "Epoch 22/50\n",
      "4/4 [==============================] - 0s 11ms/step - loss: 0.5022 - accuracy: 0.8796 - val_loss: 0.6602 - val_accuracy: 0.7500\n",
      "Epoch 23/50\n",
      "4/4 [==============================] - 0s 11ms/step - loss: 0.4828 - accuracy: 0.8704 - val_loss: 0.6430 - val_accuracy: 0.7500\n",
      "Epoch 24/50\n",
      "4/4 [==============================] - 0s 11ms/step - loss: 0.4644 - accuracy: 0.8796 - val_loss: 0.6261 - val_accuracy: 0.7500\n",
      "Epoch 25/50\n",
      "4/4 [==============================] - 0s 10ms/step - loss: 0.4461 - accuracy: 0.8704 - val_loss: 0.6113 - val_accuracy: 0.8333\n",
      "Epoch 26/50\n",
      "4/4 [==============================] - 0s 10ms/step - loss: 0.4299 - accuracy: 0.8889 - val_loss: 0.5973 - val_accuracy: 0.8333\n",
      "Epoch 27/50\n",
      "4/4 [==============================] - 0s 10ms/step - loss: 0.4122 - accuracy: 0.8889 - val_loss: 0.5817 - val_accuracy: 0.8333\n",
      "Epoch 28/50\n",
      "4/4 [==============================] - 0s 11ms/step - loss: 0.3975 - accuracy: 0.8981 - val_loss: 0.5665 - val_accuracy: 0.8333\n",
      "Epoch 29/50\n",
      "4/4 [==============================] - 0s 9ms/step - loss: 0.3824 - accuracy: 0.8796 - val_loss: 0.5533 - val_accuracy: 0.8333\n",
      "Epoch 30/50\n",
      "4/4 [==============================] - 0s 17ms/step - loss: 0.3679 - accuracy: 0.8889 - val_loss: 0.5408 - val_accuracy: 0.8333\n",
      "Epoch 31/50\n",
      "4/4 [==============================] - 0s 9ms/step - loss: 0.3537 - accuracy: 0.8981 - val_loss: 0.5293 - val_accuracy: 0.8333\n",
      "Epoch 32/50\n",
      "4/4 [==============================] - 0s 9ms/step - loss: 0.3401 - accuracy: 0.8981 - val_loss: 0.5179 - val_accuracy: 0.8333\n",
      "Epoch 33/50\n",
      "4/4 [==============================] - 0s 10ms/step - loss: 0.3281 - accuracy: 0.8981 - val_loss: 0.5042 - val_accuracy: 0.8333\n",
      "Epoch 34/50\n",
      "4/4 [==============================] - 0s 10ms/step - loss: 0.3150 - accuracy: 0.9074 - val_loss: 0.4922 - val_accuracy: 0.8333\n",
      "Epoch 35/50\n",
      "4/4 [==============================] - 0s 10ms/step - loss: 0.3032 - accuracy: 0.9259 - val_loss: 0.4810 - val_accuracy: 0.9167\n",
      "Epoch 36/50\n",
      "4/4 [==============================] - 0s 12ms/step - loss: 0.2909 - accuracy: 0.9444 - val_loss: 0.4734 - val_accuracy: 0.9167\n",
      "Epoch 37/50\n",
      "4/4 [==============================] - 0s 12ms/step - loss: 0.2807 - accuracy: 0.9444 - val_loss: 0.4632 - val_accuracy: 0.9167\n",
      "Epoch 38/50\n",
      "4/4 [==============================] - 0s 12ms/step - loss: 0.2694 - accuracy: 0.9444 - val_loss: 0.4550 - val_accuracy: 0.9167\n",
      "Epoch 39/50\n",
      "4/4 [==============================] - 0s 11ms/step - loss: 0.2585 - accuracy: 0.9444 - val_loss: 0.4466 - val_accuracy: 0.9167\n",
      "Epoch 40/50\n",
      "4/4 [==============================] - 0s 14ms/step - loss: 0.2480 - accuracy: 0.9444 - val_loss: 0.4381 - val_accuracy: 0.9167\n",
      "Epoch 41/50\n",
      "4/4 [==============================] - 0s 11ms/step - loss: 0.2386 - accuracy: 0.9444 - val_loss: 0.4317 - val_accuracy: 0.9167\n",
      "Epoch 42/50\n",
      "4/4 [==============================] - 0s 11ms/step - loss: 0.2287 - accuracy: 0.9444 - val_loss: 0.4246 - val_accuracy: 0.9167\n",
      "Epoch 43/50\n",
      "4/4 [==============================] - 0s 10ms/step - loss: 0.2193 - accuracy: 0.9444 - val_loss: 0.4196 - val_accuracy: 0.9167\n",
      "Epoch 44/50\n",
      "4/4 [==============================] - 0s 10ms/step - loss: 0.2107 - accuracy: 0.9537 - val_loss: 0.4174 - val_accuracy: 0.9167\n",
      "Epoch 45/50\n",
      "4/4 [==============================] - 0s 9ms/step - loss: 0.2032 - accuracy: 0.9537 - val_loss: 0.4113 - val_accuracy: 0.9167\n",
      "Epoch 46/50\n",
      "4/4 [==============================] - 0s 10ms/step - loss: 0.1955 - accuracy: 0.9537 - val_loss: 0.4002 - val_accuracy: 0.9167\n",
      "Epoch 47/50\n",
      "4/4 [==============================] - 0s 17ms/step - loss: 0.1870 - accuracy: 0.9537 - val_loss: 0.3946 - val_accuracy: 0.9167\n",
      "Epoch 48/50\n",
      "4/4 [==============================] - 0s 10ms/step - loss: 0.1804 - accuracy: 0.9537 - val_loss: 0.3914 - val_accuracy: 0.9167\n",
      "Epoch 49/50\n",
      "4/4 [==============================] - 0s 10ms/step - loss: 0.1731 - accuracy: 0.9630 - val_loss: 0.3851 - val_accuracy: 0.9167\n",
      "Epoch 50/50\n",
      "4/4 [==============================] - 0s 10ms/step - loss: 0.1657 - accuracy: 0.9630 - val_loss: 0.3854 - val_accuracy: 0.9167\n"
     ]
    }
   ],
   "source": [
    "# Compile the model_complex\n",
    "model_complex.compile(optimizer='adam', loss='categorical_crossentropy', metrics=['accuracy'])\n",
    "\n",
    "# Train the model_complex\n",
    "history = model_complex.fit(X_train_scaled, y_train, validation_split=0.1, epochs=50, verbose=1)"
   ]
  },
  {
   "cell_type": "code",
   "execution_count": 18,
   "metadata": {},
   "outputs": [
    {
     "name": "stdout",
     "output_type": "stream",
     "text": [
      "Test Loss: 0.1630, Test Accuracy: 0.9667\n"
     ]
    }
   ],
   "source": [
    "# Evaluate the model_complex on the test set\n",
    "loss, accuracy = model_complex.evaluate(X_test_scaled, y_test, verbose=0)\n",
    "print(f\"Test Loss: {loss:.4f}, Test Accuracy: {accuracy:.4f}\")"
   ]
  },
  {
   "cell_type": "code",
   "execution_count": 19,
   "metadata": {},
   "outputs": [
    {
     "name": "stdout",
     "output_type": "stream",
     "text": [
      "1/1 [==============================] - 0s 48ms/step\n"
     ]
    }
   ],
   "source": [
    "# Generate predictions\n",
    "y_pred = model_complex.predict(X_test_scaled)\n",
    "y_pred_classes = np.argmax(y_pred, axis=1)\n",
    "y_true = np.argmax(y_test, axis=1)"
   ]
  },
  {
   "cell_type": "code",
   "execution_count": 20,
   "metadata": {},
   "outputs": [
    {
     "name": "stdout",
     "output_type": "stream",
     "text": [
      "              precision    recall  f1-score   support\n",
      "\n",
      "      setosa       1.00      1.00      1.00        10\n",
      "  versicolor       0.90      1.00      0.95         9\n",
      "   virginica       1.00      0.91      0.95        11\n",
      "\n",
      "    accuracy                           0.97        30\n",
      "   macro avg       0.97      0.97      0.97        30\n",
      "weighted avg       0.97      0.97      0.97        30\n",
      "\n"
     ]
    }
   ],
   "source": [
    "# Print classification report\n",
    "print(classification_report(y_true, y_pred_classes, target_names=iris.target_names))\n"
   ]
  },
  {
   "cell_type": "code",
   "execution_count": 21,
   "metadata": {},
   "outputs": [
    {
     "data": {
      "image/png": "[encoded data removed]",
      "text/plain": [
       "<Figure size 1000x400 with 2 Axes>"
      ]
     },
     "metadata": {},
     "output_type": "display_data"
    }
   ],
   "source": [
    "# Plot training history\n",
    "plt.figure(figsize=(10, 4))\n",
    "plt.subplot(1, 2, 1)\n",
    "plt.plot(history.history['loss'], label='Training Loss')\n",
    "plt.plot(history.history['val_loss'], label='Validation Loss')\n",
    "plt.xlabel('Epochs')\n",
    "plt.ylabel('Loss')\n",
    "plt.legend()\n",
    "plt.subplot(1, 2, 2)\n",
    "plt.plot(history.history['accuracy'], label='Training Accuracy')\n",
    "plt.plot(history.history['val_accuracy'], label='Validation Accuracy')\n",
    "plt.xlabel('Epochs')\n",
    "plt.ylabel('Accuracy')\n",
    "plt.legend()\n",
    "plt.tight_layout()\n",
    "plt.show()"
   ]
  },
  {
   "cell_type": "markdown",
   "metadata": {},
   "source": [
    "**2. Hyperparameter Tuning:**\n",
    "We can use GridSearchCV to optimize the used hyperparameters."
   ]
  },
  {
   "cell_type": "code",
   "execution_count": 37,
   "metadata": {},
   "outputs": [
    {
     "name": "stdout",
     "output_type": "stream",
     "text": [
      "Best Test Loss: 0.3824, Best Test Accuracy: 0.9333, Optimizer: adam\n",
      "Best Test Loss: 0.1323, Best Test Accuracy: 0.9667, Optimizer: rmsprop\n",
      "Best Parameters:  {'batch_size': 16, 'epochs': 100, 'optimizer': 'rmsprop'}\n"
     ]
    }
   ],
   "source": [
    "# Define the list of hyperparameters to try\n",
    "batch_sizes = [16, 32]\n",
    "num_epochs = [50, 100]\n",
    "optimizers = ['adam', 'rmsprop']\n",
    "\n",
    "best_accuracy = 0.0\n",
    "best_params = {}\n",
    "\n",
    "# Loop through different hyperparameters\n",
    "for batch_size in batch_sizes:\n",
    "    for epochs in num_epochs:\n",
    "        for optimizer in optimizers:\n",
    "            # Build the model\n",
    "            model = create_model(optimizer)\n",
    "            \n",
    "            # Train the model\n",
    "            history = model.fit(X_train_scaled, y_train, batch_size=batch_size, epochs=epochs, verbose=0)\n",
    "            \n",
    "            # Evaluate the model on the validation set\n",
    "            loss, accuracy = model.evaluate(X_test_scaled, y_test, verbose=0)\n",
    "            \n",
    "            # Update the best parameters if accuracy improves\n",
    "            if accuracy > best_accuracy:\n",
    "                best_accuracy = accuracy\n",
    "                loss, best_accuracy = model.evaluate(X_test_scaled, y_test, verbose=0)\n",
    "                print(f\"Best Test Loss: {loss:.4f}, Best Test Accuracy: {best_accuracy:.4f}, Optimizer: {optimizer}\")\n",
    "                best_params = {'batch_size': batch_size, 'epochs': epochs, 'optimizer': optimizer}\n",
    "\n",
    "print(\"Best Parameters: \", best_params)"
   ]
  },
  {
   "cell_type": "markdown",
   "metadata": {},
   "source": [
    "****3. Regularization Techniques:**\n",
    "We can add L2 regularization (weight decay) to the hidden layers of the neural network."
   ]
  },
  {
   "cell_type": "code",
   "execution_count": 38,
   "metadata": {},
   "outputs": [],
   "source": [
    "# Build a neural network model with L2 regularization\n",
    "model_regularized = Sequential([\n",
    "    Dense(8, activation='relu', input_shape=(4,), kernel_regularizer=l2(0.01)),\n",
    "    Dense(3, activation='softmax')\n",
    "])"
   ]
  },
  {
   "cell_type": "code",
   "execution_count": 40,
   "metadata": {},
   "outputs": [
    {
     "name": "stdout",
     "output_type": "stream",
     "text": [
      "Epoch 1/50\n",
      "4/4 [==============================] - 0s 43ms/step - loss: 1.1693 - accuracy: 0.4259 - val_loss: 1.2875 - val_accuracy: 0.2500\n",
      "Epoch 2/50\n",
      "4/4 [==============================] - 0s 10ms/step - loss: 1.1512 - accuracy: 0.4444 - val_loss: 1.2705 - val_accuracy: 0.3333\n",
      "Epoch 3/50\n",
      "4/4 [==============================] - 0s 11ms/step - loss: 1.1333 - accuracy: 0.4630 - val_loss: 1.2540 - val_accuracy: 0.3333\n",
      "Epoch 4/50\n",
      "4/4 [==============================] - 0s 11ms/step - loss: 1.1162 - accuracy: 0.4907 - val_loss: 1.2385 - val_accuracy: 0.3333\n",
      "Epoch 5/50\n",
      "4/4 [==============================] - 0s 11ms/step - loss: 1.1001 - accuracy: 0.4907 - val_loss: 1.2241 - val_accuracy: 0.3333\n",
      "Epoch 6/50\n",
      "4/4 [==============================] - 0s 10ms/step - loss: 1.0843 - accuracy: 0.5278 - val_loss: 1.2095 - val_accuracy: 0.3333\n",
      "Epoch 7/50\n",
      "4/4 [==============================] - 0s 11ms/step - loss: 1.0686 - accuracy: 0.5556 - val_loss: 1.1954 - val_accuracy: 0.3333\n",
      "Epoch 8/50\n",
      "4/4 [==============================] - 0s 11ms/step - loss: 1.0532 - accuracy: 0.5556 - val_loss: 1.1813 - val_accuracy: 0.3333\n",
      "Epoch 9/50\n",
      "4/4 [==============================] - 0s 11ms/step - loss: 1.0387 - accuracy: 0.5648 - val_loss: 1.1675 - val_accuracy: 0.3333\n",
      "Epoch 10/50\n",
      "4/4 [==============================] - 0s 11ms/step - loss: 1.0236 - accuracy: 0.5833 - val_loss: 1.1539 - val_accuracy: 0.3333\n",
      "Epoch 11/50\n",
      "4/4 [==============================] - 0s 11ms/step - loss: 1.0094 - accuracy: 0.5833 - val_loss: 1.1407 - val_accuracy: 0.3333\n",
      "Epoch 12/50\n",
      "4/4 [==============================] - 0s 12ms/step - loss: 0.9953 - accuracy: 0.5833 - val_loss: 1.1283 - val_accuracy: 0.3333\n",
      "Epoch 13/50\n",
      "4/4 [==============================] - 0s 11ms/step - loss: 0.9814 - accuracy: 0.6111 - val_loss: 1.1167 - val_accuracy: 0.3333\n",
      "Epoch 14/50\n",
      "4/4 [==============================] - 0s 11ms/step - loss: 0.9684 - accuracy: 0.6296 - val_loss: 1.1052 - val_accuracy: 0.3333\n",
      "Epoch 15/50\n",
      "4/4 [==============================] - 0s 11ms/step - loss: 0.9550 - accuracy: 0.6296 - val_loss: 1.0941 - val_accuracy: 0.3333\n",
      "Epoch 16/50\n",
      "4/4 [==============================] - 0s 10ms/step - loss: 0.9418 - accuracy: 0.6481 - val_loss: 1.0835 - val_accuracy: 0.3333\n",
      "Epoch 17/50\n",
      "4/4 [==============================] - 0s 10ms/step - loss: 0.9290 - accuracy: 0.6481 - val_loss: 1.0729 - val_accuracy: 0.3333\n",
      "Epoch 18/50\n",
      "4/4 [==============================] - 0s 10ms/step - loss: 0.9161 - accuracy: 0.6574 - val_loss: 1.0625 - val_accuracy: 0.3333\n",
      "Epoch 19/50\n",
      "4/4 [==============================] - 0s 10ms/step - loss: 0.9040 - accuracy: 0.6574 - val_loss: 1.0521 - val_accuracy: 0.3333\n",
      "Epoch 20/50\n",
      "4/4 [==============================] - 0s 11ms/step - loss: 0.8921 - accuracy: 0.6667 - val_loss: 1.0416 - val_accuracy: 0.3333\n",
      "Epoch 21/50\n",
      "4/4 [==============================] - 0s 10ms/step - loss: 0.8804 - accuracy: 0.6667 - val_loss: 1.0314 - val_accuracy: 0.3333\n",
      "Epoch 22/50\n",
      "4/4 [==============================] - 0s 18ms/step - loss: 0.8692 - accuracy: 0.6667 - val_loss: 1.0218 - val_accuracy: 0.3333\n",
      "Epoch 23/50\n",
      "4/4 [==============================] - 0s 9ms/step - loss: 0.8578 - accuracy: 0.6667 - val_loss: 1.0123 - val_accuracy: 0.3333\n",
      "Epoch 24/50\n",
      "4/4 [==============================] - 0s 9ms/step - loss: 0.8470 - accuracy: 0.6759 - val_loss: 1.0028 - val_accuracy: 0.3333\n",
      "Epoch 25/50\n",
      "4/4 [==============================] - 0s 10ms/step - loss: 0.8368 - accuracy: 0.6944 - val_loss: 0.9936 - val_accuracy: 0.4167\n",
      "Epoch 26/50\n",
      "4/4 [==============================] - 0s 9ms/step - loss: 0.8262 - accuracy: 0.7315 - val_loss: 0.9850 - val_accuracy: 0.4167\n",
      "Epoch 27/50\n",
      "4/4 [==============================] - 0s 9ms/step - loss: 0.8161 - accuracy: 0.7315 - val_loss: 0.9763 - val_accuracy: 0.4167\n",
      "Epoch 28/50\n",
      "4/4 [==============================] - 0s 11ms/step - loss: 0.8062 - accuracy: 0.7315 - val_loss: 0.9679 - val_accuracy: 0.5000\n",
      "Epoch 29/50\n",
      "4/4 [==============================] - 0s 11ms/step - loss: 0.7966 - accuracy: 0.7407 - val_loss: 0.9598 - val_accuracy: 0.5000\n",
      "Epoch 30/50\n",
      "4/4 [==============================] - 0s 11ms/step - loss: 0.7869 - accuracy: 0.7407 - val_loss: 0.9516 - val_accuracy: 0.5000\n",
      "Epoch 31/50\n",
      "4/4 [==============================] - 0s 11ms/step - loss: 0.7778 - accuracy: 0.7500 - val_loss: 0.9435 - val_accuracy: 0.5000\n",
      "Epoch 32/50\n",
      "4/4 [==============================] - 0s 11ms/step - loss: 0.7687 - accuracy: 0.7500 - val_loss: 0.9356 - val_accuracy: 0.5000\n",
      "Epoch 33/50\n",
      "4/4 [==============================] - 0s 10ms/step - loss: 0.7599 - accuracy: 0.7500 - val_loss: 0.9283 - val_accuracy: 0.5000\n",
      "Epoch 34/50\n",
      "4/4 [==============================] - 0s 10ms/step - loss: 0.7511 - accuracy: 0.7500 - val_loss: 0.9209 - val_accuracy: 0.5000\n",
      "Epoch 35/50\n",
      "4/4 [==============================] - 0s 10ms/step - loss: 0.7425 - accuracy: 0.7500 - val_loss: 0.9138 - val_accuracy: 0.5000\n",
      "Epoch 36/50\n",
      "4/4 [==============================] - 0s 9ms/step - loss: 0.7339 - accuracy: 0.7407 - val_loss: 0.9066 - val_accuracy: 0.5000\n",
      "Epoch 37/50\n",
      "4/4 [==============================] - 0s 10ms/step - loss: 0.7258 - accuracy: 0.7407 - val_loss: 0.8996 - val_accuracy: 0.5000\n",
      "Epoch 38/50\n",
      "4/4 [==============================] - 0s 9ms/step - loss: 0.7174 - accuracy: 0.7315 - val_loss: 0.8926 - val_accuracy: 0.5000\n",
      "Epoch 39/50\n",
      "4/4 [==============================] - 0s 10ms/step - loss: 0.7096 - accuracy: 0.7315 - val_loss: 0.8855 - val_accuracy: 0.5000\n",
      "Epoch 40/50\n",
      "4/4 [==============================] - 0s 10ms/step - loss: 0.7016 - accuracy: 0.7315 - val_loss: 0.8788 - val_accuracy: 0.5000\n",
      "Epoch 41/50\n",
      "4/4 [==============================] - 0s 10ms/step - loss: 0.6941 - accuracy: 0.7315 - val_loss: 0.8723 - val_accuracy: 0.5000\n",
      "Epoch 42/50\n",
      "4/4 [==============================] - 0s 10ms/step - loss: 0.6861 - accuracy: 0.7315 - val_loss: 0.8661 - val_accuracy: 0.5833\n",
      "Epoch 43/50\n",
      "4/4 [==============================] - 0s 10ms/step - loss: 0.6788 - accuracy: 0.7315 - val_loss: 0.8598 - val_accuracy: 0.5833\n",
      "Epoch 44/50\n",
      "4/4 [==============================] - 0s 10ms/step - loss: 0.6713 - accuracy: 0.7315 - val_loss: 0.8539 - val_accuracy: 0.5833\n",
      "Epoch 45/50\n",
      "4/4 [==============================] - 0s 13ms/step - loss: 0.6639 - accuracy: 0.7315 - val_loss: 0.8477 - val_accuracy: 0.5833\n",
      "Epoch 46/50\n",
      "4/4 [==============================] - 0s 9ms/step - loss: 0.6568 - accuracy: 0.7407 - val_loss: 0.8417 - val_accuracy: 0.5833\n",
      "Epoch 47/50\n",
      "4/4 [==============================] - 0s 10ms/step - loss: 0.6497 - accuracy: 0.7407 - val_loss: 0.8361 - val_accuracy: 0.5833\n",
      "Epoch 48/50\n",
      "4/4 [==============================] - 0s 10ms/step - loss: 0.6428 - accuracy: 0.7593 - val_loss: 0.8307 - val_accuracy: 0.5833\n",
      "Epoch 49/50\n",
      "4/4 [==============================] - 0s 10ms/step - loss: 0.6359 - accuracy: 0.7593 - val_loss: 0.8253 - val_accuracy: 0.5833\n",
      "Epoch 50/50\n",
      "4/4 [==============================] - 0s 10ms/step - loss: 0.6293 - accuracy: 0.7593 - val_loss: 0.8197 - val_accuracy: 0.5833\n"
     ]
    }
   ],
   "source": [
    "model_regularized.compile(optimizer='adam', loss='categorical_crossentropy', metrics=['accuracy'])\n",
    "# Train the model_complex\n",
    "history = model_regularized.fit(X_train_scaled, y_train, validation_split=0.1, epochs=50, verbose=1)"
   ]
  },
  {
   "cell_type": "code",
   "execution_count": 41,
   "metadata": {},
   "outputs": [
    {
     "name": "stdout",
     "output_type": "stream",
     "text": [
      "Test Loss: 0.5900, Test Accuracy: 0.8000\n"
     ]
    }
   ],
   "source": [
    "# Evaluate the model_complex on the test set\n",
    "loss, accuracy = model_regularized.evaluate(X_test_scaled, y_test, verbose=0)\n",
    "print(f\"Test Loss: {loss:.4f}, Test Accuracy: {accuracy:.4f}\")"
   ]
  },
  {
   "cell_type": "code",
   "execution_count": 42,
   "metadata": {},
   "outputs": [
    {
     "name": "stdout",
     "output_type": "stream",
     "text": [
      "1/1 [==============================] - 0s 42ms/step\n"
     ]
    }
   ],
   "source": [
    "# Generate predictions\n",
    "y_pred = model_regularized.predict(X_test_scaled)\n",
    "y_pred_classes = np.argmax(y_pred, axis=1)\n",
    "y_true = np.argmax(y_test, axis=1)"
   ]
  },
  {
   "cell_type": "code",
   "execution_count": 43,
   "metadata": {},
   "outputs": [
    {
     "name": "stdout",
     "output_type": "stream",
     "text": [
      "              precision    recall  f1-score   support\n",
      "\n",
      "      setosa       0.83      1.00      0.91        10\n",
      "  versicolor       1.00      0.33      0.50         9\n",
      "   virginica       0.73      1.00      0.85        11\n",
      "\n",
      "    accuracy                           0.80        30\n",
      "   macro avg       0.86      0.78      0.75        30\n",
      "weighted avg       0.85      0.80      0.76        30\n",
      "\n"
     ]
    }
   ],
   "source": [
    "#Print classification report\n",
    "print(classification_report(y_true, y_pred_classes, target_names=iris.target_names))"
   ]
  }
 ],
 "metadata": {
  "kernelspec": {
   "display_name": "Python 3",
   "language": "python",
   "name": "python3"
  },
  "language_info": {
   "codemirror_mode": {
    "name": "ipython",
    "version": 3
   },
   "file_extension": ".py",
   "mimetype": "text/x-python",
   "name": "python",
   "nbconvert_exporter": "python",
   "pygments_lexer": "ipython3",
   "version": "3.11.4"
  },
  "orig_nbformat": 4
 },
 "nbformat": 4,
 "nbformat_minor": 2
}
